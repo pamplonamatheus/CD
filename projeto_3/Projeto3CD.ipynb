{
 "cells": [
  {
   "cell_type": "code",
   "execution_count": 26,
   "metadata": {
    "collapsed": false
   },
   "outputs": [
    {
     "name": "stdout",
     "output_type": "stream",
     "text": [
      "Esperamos trabalhar no diretório\n",
      "C:\\Users\\Matheus\\Documents\\GitHub\\CD\\projeto_3\n"
     ]
    }
   ],
   "source": [
    "%matplotlib inline\n",
    "\n",
    "import os\n",
    "import matplotlib.pyplot as plt\n",
    "from mpl_toolkits.mplot3d import Axes3D\n",
    "from matplotlib import cm\n",
    "import pandas as pd\n",
    "import numpy as np\n",
    "\n",
    "import statsmodels.api as sm1 #Usa OLS com X como matriz de planejamento\n",
    "import statsmodels.formula.api as sm  #Usa OLS como no R\n",
    "\n",
    "print('Esperamos trabalhar no diretório')\n",
    "print(os.getcwd())"
   ]
  },
  {
   "cell_type": "code",
   "execution_count": 27,
   "metadata": {
    "collapsed": true
   },
   "outputs": [],
   "source": [
    "dados = pd.read_excel('ESPECVIDA.xlsx',index_col=0)\n",
    "dados1 = pd.read_excel('PIBPER.xlsx',index_col=0)\n",
    "dados2 = pd.read_excel('SANIT.xlsx',index_col=0)\n",
    "                     "
   ]
  },
  {
   "cell_type": "code",
   "execution_count": 28,
   "metadata": {
    "collapsed": false
   },
   "outputs": [
    {
     "data": {
      "text/html": [
       "<div>\n",
       "<table border=\"1\" class=\"dataframe\">\n",
       "  <thead>\n",
       "    <tr style=\"text-align: right;\">\n",
       "      <th></th>\n",
       "      <th>1990</th>\n",
       "      <th>1991</th>\n",
       "      <th>1992</th>\n",
       "      <th>1993</th>\n",
       "      <th>1994</th>\n",
       "      <th>1995</th>\n",
       "      <th>1996</th>\n",
       "      <th>1997</th>\n",
       "      <th>1998</th>\n",
       "      <th>1999</th>\n",
       "      <th>...</th>\n",
       "      <th>2001</th>\n",
       "      <th>2002</th>\n",
       "      <th>2003</th>\n",
       "      <th>2004</th>\n",
       "      <th>2005</th>\n",
       "      <th>2006</th>\n",
       "      <th>2007</th>\n",
       "      <th>2008</th>\n",
       "      <th>2009</th>\n",
       "      <th>Dez</th>\n",
       "    </tr>\n",
       "    <tr>\n",
       "      <th>Proportion of the population using improved sanitation facilities, total</th>\n",
       "      <th></th>\n",
       "      <th></th>\n",
       "      <th></th>\n",
       "      <th></th>\n",
       "      <th></th>\n",
       "      <th></th>\n",
       "      <th></th>\n",
       "      <th></th>\n",
       "      <th></th>\n",
       "      <th></th>\n",
       "      <th></th>\n",
       "      <th></th>\n",
       "      <th></th>\n",
       "      <th></th>\n",
       "      <th></th>\n",
       "      <th></th>\n",
       "      <th></th>\n",
       "      <th></th>\n",
       "      <th></th>\n",
       "      <th></th>\n",
       "      <th></th>\n",
       "    </tr>\n",
       "  </thead>\n",
       "  <tbody>\n",
       "    <tr>\n",
       "      <th>Abkhazia</th>\n",
       "      <td>NaN</td>\n",
       "      <td>NaN</td>\n",
       "      <td>NaN</td>\n",
       "      <td>NaN</td>\n",
       "      <td>NaN</td>\n",
       "      <td>NaN</td>\n",
       "      <td>NaN</td>\n",
       "      <td>NaN</td>\n",
       "      <td>NaN</td>\n",
       "      <td>NaN</td>\n",
       "      <td>...</td>\n",
       "      <td>NaN</td>\n",
       "      <td>NaN</td>\n",
       "      <td>NaN</td>\n",
       "      <td>NaN</td>\n",
       "      <td>NaN</td>\n",
       "      <td>NaN</td>\n",
       "      <td>NaN</td>\n",
       "      <td>NaN</td>\n",
       "      <td>NaN</td>\n",
       "      <td>NaN</td>\n",
       "    </tr>\n",
       "    <tr>\n",
       "      <th>Afghanistan</th>\n",
       "      <td>NaN</td>\n",
       "      <td>29.0</td>\n",
       "      <td>29.0</td>\n",
       "      <td>29.0</td>\n",
       "      <td>29.0</td>\n",
       "      <td>29.0</td>\n",
       "      <td>29.0</td>\n",
       "      <td>30.0</td>\n",
       "      <td>30.0</td>\n",
       "      <td>31.0</td>\n",
       "      <td>...</td>\n",
       "      <td>32.0</td>\n",
       "      <td>33.0</td>\n",
       "      <td>34.0</td>\n",
       "      <td>34.0</td>\n",
       "      <td>35.0</td>\n",
       "      <td>35.0</td>\n",
       "      <td>37.0</td>\n",
       "      <td>37.0</td>\n",
       "      <td>37.0</td>\n",
       "      <td>37.0</td>\n",
       "    </tr>\n",
       "    <tr>\n",
       "      <th>Akrotiri and Dhekelia</th>\n",
       "      <td>NaN</td>\n",
       "      <td>NaN</td>\n",
       "      <td>NaN</td>\n",
       "      <td>NaN</td>\n",
       "      <td>NaN</td>\n",
       "      <td>NaN</td>\n",
       "      <td>NaN</td>\n",
       "      <td>NaN</td>\n",
       "      <td>NaN</td>\n",
       "      <td>NaN</td>\n",
       "      <td>...</td>\n",
       "      <td>NaN</td>\n",
       "      <td>NaN</td>\n",
       "      <td>NaN</td>\n",
       "      <td>NaN</td>\n",
       "      <td>NaN</td>\n",
       "      <td>NaN</td>\n",
       "      <td>NaN</td>\n",
       "      <td>NaN</td>\n",
       "      <td>NaN</td>\n",
       "      <td>NaN</td>\n",
       "    </tr>\n",
       "    <tr>\n",
       "      <th>Albania</th>\n",
       "      <td>76.0</td>\n",
       "      <td>76.0</td>\n",
       "      <td>77.0</td>\n",
       "      <td>77.0</td>\n",
       "      <td>77.0</td>\n",
       "      <td>78.0</td>\n",
       "      <td>79.0</td>\n",
       "      <td>80.0</td>\n",
       "      <td>81.0</td>\n",
       "      <td>82.0</td>\n",
       "      <td>...</td>\n",
       "      <td>85.0</td>\n",
       "      <td>86.0</td>\n",
       "      <td>87.0</td>\n",
       "      <td>88.0</td>\n",
       "      <td>90.0</td>\n",
       "      <td>91.0</td>\n",
       "      <td>91.0</td>\n",
       "      <td>93.0</td>\n",
       "      <td>94.0</td>\n",
       "      <td>94.0</td>\n",
       "    </tr>\n",
       "    <tr>\n",
       "      <th>Algeria</th>\n",
       "      <td>88.0</td>\n",
       "      <td>89.0</td>\n",
       "      <td>89.0</td>\n",
       "      <td>89.0</td>\n",
       "      <td>90.0</td>\n",
       "      <td>90.0</td>\n",
       "      <td>90.0</td>\n",
       "      <td>91.0</td>\n",
       "      <td>91.0</td>\n",
       "      <td>92.0</td>\n",
       "      <td>...</td>\n",
       "      <td>92.0</td>\n",
       "      <td>93.0</td>\n",
       "      <td>93.0</td>\n",
       "      <td>93.0</td>\n",
       "      <td>94.0</td>\n",
       "      <td>94.0</td>\n",
       "      <td>94.0</td>\n",
       "      <td>95.0</td>\n",
       "      <td>95.0</td>\n",
       "      <td>95.0</td>\n",
       "    </tr>\n",
       "  </tbody>\n",
       "</table>\n",
       "<p>5 rows × 21 columns</p>\n",
       "</div>"
      ],
      "text/plain": [
       "                                                    1990  1991  1992  1993  \\\n",
       "Proportion of the population using improved san...                           \n",
       "Abkhazia                                             NaN   NaN   NaN   NaN   \n",
       "Afghanistan                                          NaN  29.0  29.0  29.0   \n",
       "Akrotiri and Dhekelia                                NaN   NaN   NaN   NaN   \n",
       "Albania                                             76.0  76.0  77.0  77.0   \n",
       "Algeria                                             88.0  89.0  89.0  89.0   \n",
       "\n",
       "                                                    1994  1995  1996  1997  \\\n",
       "Proportion of the population using improved san...                           \n",
       "Abkhazia                                             NaN   NaN   NaN   NaN   \n",
       "Afghanistan                                         29.0  29.0  29.0  30.0   \n",
       "Akrotiri and Dhekelia                                NaN   NaN   NaN   NaN   \n",
       "Albania                                             77.0  78.0  79.0  80.0   \n",
       "Algeria                                             90.0  90.0  90.0  91.0   \n",
       "\n",
       "                                                    1998  1999  ...   2001  \\\n",
       "Proportion of the population using improved san...              ...          \n",
       "Abkhazia                                             NaN   NaN  ...    NaN   \n",
       "Afghanistan                                         30.0  31.0  ...   32.0   \n",
       "Akrotiri and Dhekelia                                NaN   NaN  ...    NaN   \n",
       "Albania                                             81.0  82.0  ...   85.0   \n",
       "Algeria                                             91.0  92.0  ...   92.0   \n",
       "\n",
       "                                                    2002  2003  2004  2005  \\\n",
       "Proportion of the population using improved san...                           \n",
       "Abkhazia                                             NaN   NaN   NaN   NaN   \n",
       "Afghanistan                                         33.0  34.0  34.0  35.0   \n",
       "Akrotiri and Dhekelia                                NaN   NaN   NaN   NaN   \n",
       "Albania                                             86.0  87.0  88.0  90.0   \n",
       "Algeria                                             93.0  93.0  93.0  94.0   \n",
       "\n",
       "                                                    2006  2007  2008  2009  \\\n",
       "Proportion of the population using improved san...                           \n",
       "Abkhazia                                             NaN   NaN   NaN   NaN   \n",
       "Afghanistan                                         35.0  37.0  37.0  37.0   \n",
       "Akrotiri and Dhekelia                                NaN   NaN   NaN   NaN   \n",
       "Albania                                             91.0  91.0  93.0  94.0   \n",
       "Algeria                                             94.0  94.0  95.0  95.0   \n",
       "\n",
       "                                                     Dez  \n",
       "Proportion of the population using improved san...        \n",
       "Abkhazia                                             NaN  \n",
       "Afghanistan                                         37.0  \n",
       "Akrotiri and Dhekelia                                NaN  \n",
       "Albania                                             94.0  \n",
       "Algeria                                             95.0  \n",
       "\n",
       "[5 rows x 21 columns]"
      ]
     },
     "execution_count": 28,
     "metadata": {},
     "output_type": "execute_result"
    }
   ],
   "source": [
    "dados.head()\n",
    "dados1.head()\n",
    "dados2.head()"
   ]
  },
  {
   "cell_type": "code",
   "execution_count": 29,
   "metadata": {
    "collapsed": true
   },
   "outputs": [],
   "source": [
    "d = pd.DataFrame()"
   ]
  },
  {
   "cell_type": "code",
   "execution_count": 30,
   "metadata": {
    "collapsed": false
   },
   "outputs": [],
   "source": [
    "d = dados.Dez"
   ]
  },
  {
   "cell_type": "code",
   "execution_count": 31,
   "metadata": {
    "collapsed": false
   },
   "outputs": [],
   "source": [
    "d = d[~np.isnan(dados.Dez)]\n"
   ]
  },
  {
   "cell_type": "code",
   "execution_count": 32,
   "metadata": {
    "collapsed": false
   },
   "outputs": [
    {
     "data": {
      "text/plain": [
       "Life expectancy\n",
       "Afghanistan       53.6\n",
       "Albania           77.2\n",
       "Algeria           76.0\n",
       "American Samoa    72.8\n",
       "Andorra           84.7\n",
       "Name: Dez, dtype: float64"
      ]
     },
     "execution_count": 32,
     "metadata": {},
     "output_type": "execute_result"
    }
   ],
   "source": [
    "d.head()"
   ]
  },
  {
   "cell_type": "code",
   "execution_count": 33,
   "metadata": {
    "collapsed": true
   },
   "outputs": [],
   "source": [
    "d1 = pd.DataFrame()"
   ]
  },
  {
   "cell_type": "code",
   "execution_count": 34,
   "metadata": {
    "collapsed": false
   },
   "outputs": [],
   "source": [
    "d1 = dados1.Dez"
   ]
  },
  {
   "cell_type": "code",
   "execution_count": 35,
   "metadata": {
    "collapsed": true
   },
   "outputs": [],
   "source": [
    "d1 = d1[~np.isnan(dados1.Dez)]"
   ]
  },
  {
   "cell_type": "code",
   "execution_count": 36,
   "metadata": {
    "collapsed": false
   },
   "outputs": [
    {
     "data": {
      "text/plain": [
       "Income per person (fixed 2000 US$)\n",
       "Albania                 1915.424459\n",
       "Algeria                 2231.980246\n",
       "Angola                   623.245275\n",
       "Antigua and Barbuda    10614.794315\n",
       "Argentina              10749.319224\n",
       "Name: Dez, dtype: float64"
      ]
     },
     "execution_count": 36,
     "metadata": {},
     "output_type": "execute_result"
    }
   ],
   "source": [
    "d1.head()"
   ]
  },
  {
   "cell_type": "code",
   "execution_count": 37,
   "metadata": {
    "collapsed": false
   },
   "outputs": [
    {
     "data": {
      "text/plain": [
       "Proportion of the population using improved sanitation facilities, total\n",
       "Afghanistan     37.0\n",
       "Albania         94.0\n",
       "Algeria         95.0\n",
       "Andorra        100.0\n",
       "Angola          58.0\n",
       "Name: Dez, dtype: float64"
      ]
     },
     "execution_count": 37,
     "metadata": {},
     "output_type": "execute_result"
    }
   ],
   "source": [
    "d2 = pd.DataFrame()\n",
    "d2 = dados2.Dez\n",
    "d2 = d2[~np.isnan(dados2.Dez)]\n",
    "d2.head()"
   ]
  },
  {
   "cell_type": "code",
   "execution_count": 41,
   "metadata": {
    "collapsed": false
   },
   "outputs": [],
   "source": [
    "D = pd.DataFrame()"
   ]
  },
  {
   "cell_type": "code",
   "execution_count": 47,
   "metadata": {
    "collapsed": true
   },
   "outputs": [],
   "source": [
    "D['expectativa'] = d\n",
    "D['renda'] = d1\n",
    "D['saneamento'] = d2"
   ]
  },
  {
   "cell_type": "code",
   "execution_count": 52,
   "metadata": {
    "collapsed": false
   },
   "outputs": [
    {
     "data": {
      "text/plain": [
       "Proportion of the population using improved sanitation facilities, total\n",
       "Afghanistan                  37.0\n",
       "Albania                      94.0\n",
       "Algeria                      95.0\n",
       "Andorra                     100.0\n",
       "Angola                       58.0\n",
       "Armenia                      90.0\n",
       "Australia                   100.0\n",
       "Austria                     100.0\n",
       "Azerbaijan                   82.0\n",
       "Bahamas                     100.0\n",
       "Bangladesh                   56.0\n",
       "Barbados                    100.0\n",
       "Belarus                      93.0\n",
       "Belgium                     100.0\n",
       "Belize                       90.0\n",
       "Benin                        13.0\n",
       "Bhutan                       44.0\n",
       "Bolivia                      27.0\n",
       "Bosnia and Herzegovina       95.0\n",
       "Botswana                     62.0\n",
       "Brazil                       79.0\n",
       "Bulgaria                    100.0\n",
       "Burkina Faso                 17.0\n",
       "Burundi                      46.0\n",
       "Cambodia                     31.0\n",
       "Cameroon                     49.0\n",
       "Canada                      100.0\n",
       "Cape Verde                   61.0\n",
       "Cayman Islands               96.0\n",
       "Central African Republic     34.0\n",
       "                            ...  \n",
       "Sri Lanka                    92.0\n",
       "Sudan                        26.0\n",
       "Suriname                     83.0\n",
       "Swaziland                    57.0\n",
       "Sweden                      100.0\n",
       "Switzerland                 100.0\n",
       "Syria                        95.0\n",
       "Tajikistan                   94.0\n",
       "Tanzania                     10.0\n",
       "Thailand                     96.0\n",
       "Timor-Leste                  47.0\n",
       "Togo                         13.0\n",
       "Tonga                        96.0\n",
       "Trinidad and Tobago          92.0\n",
       "Turkey                       90.0\n",
       "Turkmenistan                 98.0\n",
       "Tuvalu                       85.0\n",
       "Uganda                       34.0\n",
       "Ukraine                      94.0\n",
       "United Arab Emirates         98.0\n",
       "United Kingdom              100.0\n",
       "United States               100.0\n",
       "Uruguay                     100.0\n",
       "Uzbekistan                  100.0\n",
       "Vanuatu                      57.0\n",
       "West Bank and Gaza           92.0\n",
       "Vietnam                      76.0\n",
       "Yemen                        53.0\n",
       "Zambia                       48.0\n",
       "Zimbabwe                     40.0\n",
       "Name: Dez, dtype: float64"
      ]
     },
     "execution_count": 52,
     "metadata": {},
     "output_type": "execute_result"
    }
   ],
   "source": [
    "D.saneamento"
   ]
  },
  {
   "cell_type": "code",
   "execution_count": null,
   "metadata": {
    "collapsed": true
   },
   "outputs": [],
   "source": []
  }
 ],
 "metadata": {
  "kernelspec": {
   "display_name": "Python 3",
   "language": "python",
   "name": "python3"
  },
  "language_info": {
   "codemirror_mode": {
    "name": "ipython",
    "version": 3
   },
   "file_extension": ".py",
   "mimetype": "text/x-python",
   "name": "python",
   "nbconvert_exporter": "python",
   "pygments_lexer": "ipython3",
   "version": "3.5.1"
  }
 },
 "nbformat": 4,
 "nbformat_minor": 0
}
