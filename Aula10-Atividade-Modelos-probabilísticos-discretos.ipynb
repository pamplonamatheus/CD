{
 "cells": [
  {
   "cell_type": "markdown",
   "metadata": {},
   "source": [
    "___\n",
    "# Atividade: Modelos probabilísticos discretos e Dados\n",
    "___\n",
    "\n",
    "## Aula 10\n",
    "\n",
    "**Referência de Leitura:**\n",
    "1. Magalhães e Lima (7ª. Edição): Seções 3.2 e 3.3\n",
    "\n",
    "**Hoje:**\n",
    "1.\tDescrever modelos discretos quanto aos resultados teóricos.\n",
    "2.\tExplicar a utilização de modelos probabilísticos no contexto da literatura estatística.\n",
    "3.\tContrastar resultados teóricos e empíricos.\n",
    "4.\tFechamento do conteúdo.\n",
    "\n",
    "**Próxima aula:**\n",
    "1. Leitura prévia necessária: Magalhães e Lima (7ª. Edição): Seção 5.1 (pág. 137) e Seção 5.2 (pág. 146).\n",
    "___"
   ]
  },
  {
   "cell_type": "code",
   "execution_count": 2,
   "metadata": {
    "collapsed": true
   },
   "outputs": [],
   "source": [
    "%matplotlib inline\n",
    "import pandas as pd\n",
    "import matplotlib.pyplot as plt\n",
    "\n",
    "from scipy import stats #importa apenas as funções de estatísticas da biblioteca SciPy.\n",
    "import itertools #importante para gerar todos os resultados possíveis!!\n"
   ]
  },
  {
   "cell_type": "markdown",
   "metadata": {},
   "source": [
    "___\n",
    "## <font color='blue'>Exercício 1</font>\n",
    "\n",
    "Um resistor de 100K Ohms comprado na Santa Efigênia tem probabilidade de falha de 5%, segundo um fabricante ruim.\n",
    "\n",
    "Ainda, assuma os resistores falham de forma independente entre si.\n",
    "\n",
    "Um aluno de engenharia compra um pacote contendo $n$ resistores.\n",
    "\n",
    "1. Assuma $n=3$ e faça os itens a seguir.\n",
    "  1. Monte o espaço amostral que combine todos os resultados possíveis de Falha e não Falha desses $n$ resistores. Ainda, calcule a probabilidade de cada resultado do espaço amostral acontecer.\n",
    "  2. Se $Y$ representa o número de resistores que falham em um pacotinho com $n$ resistores, então construa a distribuição de probabilidades de $Y$.\n",
    "  3. Calcule a média e o desvio padrão de $Y$. Interprete os resultados.\n",
    "    \n",
    "2. Assuma $n=7$ e repita os itens A) a C) anteriores. No caso de $n=7$ ou maiores quantidades de resistores em um pacotinho, qual a viabilidade de construir a distribuição de probabilidades do número de resistores com defeitos quando $n$ não é pequeno?\n",
    "    \n",
    "3. Encontre a distribuição de probabilidades de cada possível valor de $Y$ utilizando a distribuição Binomial para $n=3$ e $n=7$. Calcule também $E(X)$ e $Var(X)$. Compare com as distribuições de probabilidades obtidas nos itens anteriores e discuta porque esses valores são iguais ou diferentes!\n",
    "    \n",
    "> **DISTRIBUIÇÃO BINOMIAL - TEORIA:**\n",
    "\n",
    "> É responsável por modelar uma variável $Y$ definida pelo Número de sucessos em $n$ tentativas, cuja probabilidade de sucesso é dada por $p$. Assim, dizemos que $Y$~$Bin(n,p)$ e lê-se: $Y$ segue uma distribuição binomial com $n$ tentativas e $p$ como probabilidade de sucesso. \n",
    "\n",
    "> A função de probabilidade nesse caso é dada por:\n",
    "$P(Y=y)=\\left(\n",
    "\\begin{array}{c}\n",
    "    n \\\\\n",
    "    y\n",
    "\\end{array}\\right) p^y (1-p)^{(n-y)}$\n",
    "\n",
    "> Para um experimento ter as probabilidade dos números de sucessos modeladas por uma distribuição Binomial, o mesmo precisa ter as seguintes propriedades:\n",
    "* é uma contagem de $n$ repetições (ou tentativas ou ensaios) idênticas;\n",
    "* cada repetição tem apenas 2 resultados possíveis: um é denominado sucesso e o outro, fracasso;\n",
    "* a probabilidade de sucesso para cada ensaio é denominada $p$ e será constante em cada repetição. Então, a probabilidade de fracasso $(1-p)$ também não varia de tentativa para tentativa;\n",
    "* As tentativas são independentes.\n",
    "\n",
    "\n",
    "> **DISTRIBUIÇÃO BINOMIAL - PYTHON:** <sup> [https://en.wikipedia.org/wiki/SciPy]\n",
    "\n",
    "> Algumas funções úteis para desenvolver seu código: <sup> [http://docs.scipy.org/doc/scipy-0.16.1/reference/generated/scipy.stats.binom.html]\n",
    "* $P(Y=y)$: `stats.binom.pmf(y, n, p)`\n",
    "* $P(Y\\leq y)$: `stats.binom.cdf(y, n, p)`\n",
    "* $E(X)$ e $Var(X)$: `stats.binom.stats(n, p, moments='mv')`\n"
   ]
  },
  {
   "cell_type": "code",
   "execution_count": 3,
   "metadata": {
    "collapsed": false
   },
   "outputs": [
    {
     "name": "stdout",
     "output_type": "stream",
     "text": [
      "0.257282161719\n",
      "0.3325\n"
     ]
    }
   ],
   "source": [
    "P0 = stats.binom.pmf(1, 7, 0.05)\n",
    "print(P0)\n",
    "\n",
    "M = stats.binom.stats(7, 0.05, moments='mv')\n",
    "print(M[1])"
   ]
  },
  {
   "cell_type": "code",
   "execution_count": 4,
   "metadata": {
    "collapsed": false
   },
   "outputs": [
    {
     "name": "stdout",
     "output_type": "stream",
     "text": [
      "Falha:  0  Probabilidade 0.6983372961 \n",
      "Falha:  1  Probabilidade 0.2572821617 \n",
      "Falha:  2  Probabilidade 0.0406234992 \n",
      "Falha:  3  Probabilidade 0.0035634648 \n",
      "Falha:  4  Probabilidade 0.0001875508 \n",
      "Falha:  5  Probabilidade 0.0000059227 \n",
      "Falha:  6  Probabilidade 0.0000001039 \n",
      "Falha:  7  Probabilidade 0.0000000008 \n"
     ]
    }
   ],
   "source": [
    "possibilidades = [\"S\",\"F\"]\n",
    "\n",
    "prob = {\"S\": 0.95, \"F\":0.05}\n",
    "\n",
    "arranjos = itertools.product(possibilidades, repeat=7)\n",
    "espaco_amostral = list(arranjos)\n",
    "\n",
    "prob_linhas = []\n",
    "\n",
    "for res in espaco_amostral:\n",
    "    p = 1.0\n",
    "    for e in res:\n",
    "        p*=prob[e]\n",
    "    prob_linhas.append(p)\n",
    "\n",
    "valores_X = {}\n",
    "\n",
    "for i in range(len(espaco_amostral)):\n",
    "    custo = espaco_amostral[i].count(\"F\")*1\n",
    "    # Checar antes se a chave está no dicionário\n",
    "    if custo in valores_X:\n",
    "        valores_X[custo] += prob_linhas[i]\n",
    "    else:\n",
    "        valores_X[custo] = prob_linhas[i]\n",
    "        \n",
    "for k in valores_X:\n",
    "    print(\"Falha: \", k, \" Probabilidade\", \"%6.10f \"%valores_X[k])"
   ]
  },
  {
   "cell_type": "code",
   "execution_count": 5,
   "metadata": {
    "collapsed": false
   },
   "outputs": [
    {
     "name": "stdout",
     "output_type": "stream",
     "text": [
      "5.468750000000002e-09\n"
     ]
    }
   ],
   "source": [
    "M = 0\n",
    "for i in valores_X:\n",
    "    m = i * valores_X[i]\n",
    "    M = m\n",
    "    \n",
    "print(M)\n",
    "    "
   ]
  },
  {
   "cell_type": "markdown",
   "metadata": {
    "collapsed": true
   },
   "source": [
    "___\n",
    "## <font color='blue'>Exercício 2</font>\n",
    "\n",
    "Uma fábrica produz determinado veículo. O gerente de vendas fechou um negócio que implica na produção de pelo menos 110 unidades nos próximos dois meses. Para isso, será construída uma nova linha de montagem com capacidade para produzir em média 50 veículos por mês (considere meses de 30 dias). A linha funcionará ininterruptamente. Além disso, apenas um veículo é produzido por vez. Considere que um modelo Poisson seja adequado para a quantidade de veículos produzidos.\n",
    "   1. Qual a probabilidade  da produção ser igual a 100 veículos nos próximos dois meses?\n",
    "   2. Qual a probabilidade  da produção ser de pelo menos 100 veículos nos próximos dois meses?\n",
    "   3. Qual a probabilidade da produção ser entre 100 e 110 veículos nos próximos dois meses?\n",
    "   4. Se forem produzidos de pelo menos 100 veículos no próximo mês, qual a probabilidade do gerente cumprir a meta negociada?\n",
    "   5. Caso o prazo seja cumprido, o lucro será da ordem de $250$ mil, caso não seja, o lucro cai para $200$ mil. Qual é o lucro esperado e seu desvio-padrão?\n",
    "\n",
    "**Observação:** Explore os comandos de `stats.poisson`. <sup>[http://docs.scipy.org/doc/scipy/reference/generated/scipy.stats.poisson.html]\n"
   ]
  },
  {
   "cell_type": "code",
   "execution_count": 6,
   "metadata": {
    "collapsed": false
   },
   "outputs": [],
   "source": [
    "import numpy as np\n",
    "from scipy.stats import poisson\n",
    "\n",
    "#stats.distributions.poisson.pmf(, )"
   ]
  },
  {
   "cell_type": "markdown",
   "metadata": {},
   "source": [
    "___\n",
    "## <font color='blue'>Exercício 3</font> \n",
    "### <font color='red'>**Check para dia 13/09 em DUPLA **</font>\n",
    "\n",
    "Esse exercício irá explorar uma modelagem de dados reais.\n",
    "\n",
    "> **Confira alguns itens obrigatórios verificados durante a vistoria do Detran**\n",
    "\n",
    "> *Todos os veículos, novos ou velhos, precisam passar por uma vistoria todos os anos. (...) O motorista precisa estar atento a alguns itens obrigatórios. Tudo deve funcionar perfeitamente, apresentar bom estado de conservação e estar dentro do prazo de validade.*\n",
    "\n",
    "> <sup>Fonte: http://extra.globo.com/noticias/brasil/transito-seguro/confira-alguns-itens-obrigatorios-verificados-durante-vistoria-do-detran-10190355.html</sup>\n",
    "\n",
    "Essa matéria lista 14 itens que são inspecionados pelo Detran, dentre os quais têm-se: extintor de incêndio deve estar dentro do prazo de validade; pneus devem estar em bom estado de conservação; buzina deve funcionar perfeitamente; e cintos de segurança para todos os ocupantes do carro. Se, no final das contas, todos os 14 itens estiverem funcionando perfeitamente, o motorista irá feliz para casa assegurado de que seu carro está sem problemas com a vistoria.\n",
    "\n",
    "1. A base de dados `Carros.txt` apresenta, para cada um dos três mil carros de passeio vistoriados, duas informações: tipo de carro (1: Popular e 2: Não Popular) e quantidade de itens vistoriados em não conformidade (que pode variar de 0 a 14). \n",
    "    1. Considerando todos os carros, analise a quantidade de itens vistoriados em não conformidade. Pela tabela de frequências relativas, calcule a média e variância dessa quantidade. Interprete-os.\n",
    "    2. Assuma que a variável *Quantidade de itens em não conformidade* possa ser ajustada pelo modelo Binomial com parâmetros $n=14$ e $p=0,10$. Interprete esses parâmetros para o problema em questão e, ainda, discuta se as propriedades da distribuição Binomial estão satisfeitas para o problema aqui me questão.\n",
    "    \n",
    "    **Independente da sua resposta anterior, considere que a distribuição binomial seja adequada para modelar a variável de interesse nos próximos itens!**\n",
    "    3. Utilizando o método `stats.binom.pmf`, obtenha a probabilidade de cada uma das quantidades de itens em não conformidade quando $n=14$ e $p=0,10$. Calcule o valor esperado e a variância da quantidade de itens em não conformidade utilizando o método `stats.binom.stats` e via resultado da Tabela 4.4 do Magalhães e Lima (pág. 125).\n",
    "    4. Compare as probabilidades teóricas com as frequências relativas observadas nos dados. Para isso, tem-se, por exemplo, as duas opções abaixo para comparar se os resultados empíricos se encaixam com o modelo teórico proposto. \n",
    "        - A primeira opção gráfica contrasta a frequência relativa e a probabilidade teórica para uma determinada quantidade de itens em não conformidade! Vide Figura 3.4 do livro Magalhães e Lima (pág. 87). Ou seja, essa opção contrasta a frequência relativa em um valor de $y$ e a probabilidade pontual $P(Y=y)$.\n",
    "        - A segunda contrasta a frequência relativa acumulada com a probabilidade acumulada até determinada quantidade de itens em não conformidade. Ou seja, compara a frequência relativa acumulada até $y$ com a probabilidade acumulada $P(Y\\leq y)$.\n",
    "    Construa os gráficos de acordo com as duas opções e refine sua conclusão quanto ao uso do modelo teórico para ajustar a variável em questão!\n",
    "    5. Na prática, qual a necessidade de um modelo probabilístico já que se têm os dados observados?\n",
    "    6. Considerando apenas os carros populares, o modelo Binomial com parâmetros $n=14$ e $p=0,10$ é adequado para ajustar a variável Quantidade de itens em não conformidade? Se sim, justifique; caso não, sugira novos valores para os parâmetros da distribuição ajuste aos dados."
   ]
  },
  {
   "cell_type": "code",
   "execution_count": 7,
   "metadata": {
    "collapsed": false
   },
   "outputs": [
    {
     "name": "stdout",
     "output_type": "stream",
     "text": [
      "Esperamos trabalhar no diretório\n",
      "C:\\Users\\Lucas\\Documents\\GitHub\\CD\\Aula10\n"
     ]
    }
   ],
   "source": [
    "import os\n",
    "print('Esperamos trabalhar no diretório')\n",
    "print(os.getcwd())\n",
    "carros = pd.read_table('Carros.txt', sep=' ')"
   ]
  },
  {
   "cell_type": "code",
   "execution_count": 24,
   "metadata": {
    "collapsed": false
   },
   "outputs": [
    {
     "name": "stdout",
     "output_type": "stream",
     "text": [
      "1    0.316667\n",
      "0    0.288000\n",
      "2    0.221333\n",
      "3    0.108333\n",
      "4    0.046333\n",
      "5    0.015667\n",
      "6    0.002667\n",
      "7    0.000667\n",
      "8    0.000333\n",
      "Name: Quantidade, dtype: float64\n",
      "1.57944488889\n",
      "1.3713340000000003\n"
     ]
    }
   ],
   "source": [
    "R = carros.Quantidade.value_counts(True) \n",
    "\n",
    "print(R)\n",
    "\n",
    "T1 = [1,0,2,3,4,5,6,7,8]\n",
    "\n",
    "Media = 0*0.288000 + 1*0.316667 + 2*0.221333 + 3*0.108333 +4*0.046333 +5*0.015667 +6*0.002667 +7*0.000667 +8*0.000333\n",
    "\n",
    "\n",
    "var = 0\n",
    "for i in range(0,9):\n",
    "    x = ((i - Media)**2)*R[i]\n",
    "    var = var + x\n",
    "    \n",
    "print(var)\n",
    "print(Media)"
   ]
  },
  {
   "cell_type": "code",
   "execution_count": 9,
   "metadata": {
    "collapsed": false
   },
   "outputs": [
    {
     "name": "stdout",
     "output_type": "stream",
     "text": [
      "0 falhas:  0.2287679245 \n",
      "1 falha:  0.3558612160 \n",
      "2 falhas:  0.2570108782 \n",
      "3 falhas:  0.1142270570 \n",
      "4 falhas:  0.0349027119 \n",
      "5 falhas:  0.0077561582 \n",
      "6 falhas:  0.0012926930 \n",
      "7 falhas:  0.0001641515 \n",
      "8 falhas:  0.0000159592 \n",
      "9 falhas:  0.0000011822 \n",
      "10 falhas:  0.0000000657 \n",
      "11 falhas:  0.0000000027 \n",
      "12 falhas:  0.0000000001 \n",
      "13 falhas:  0.0000000000 \n",
      "14 falhas:  0.0000000000 \n"
     ]
    }
   ],
   "source": [
    "P0 = stats.binom.pmf(0, 14, 0.1)\n",
    "P1 = stats.binom.pmf(1, 14, 0.1)\n",
    "P2 = stats.binom.pmf(2, 14, 0.1)\n",
    "P3 = stats.binom.pmf(3, 14, 0.1)\n",
    "P4 = stats.binom.pmf(4, 14, 0.1)\n",
    "P5 = stats.binom.pmf(5, 14, 0.1)\n",
    "P6 = stats.binom.pmf(6, 14, 0.1)\n",
    "P7 = stats.binom.pmf(7, 14, 0.1)\n",
    "P8 = stats.binom.pmf(8, 14, 0.1)\n",
    "P9 = stats.binom.pmf(9, 14, 0.1)\n",
    "P10 = stats.binom.pmf(10, 14, 0.1)\n",
    "P11 = stats.binom.pmf(11, 14, 0.1)\n",
    "P12 = stats.binom.pmf(12, 14, 0.1)\n",
    "P13 = stats.binom.pmf(13, 14, 0.1)\n",
    "P14 = stats.binom.pmf(14, 14, 0.1)\n",
    "print(\"0 falhas: \", \"%6.10f \"%P0)\n",
    "print(\"1 falha: \", \"%6.10f \"%P1)\n",
    "print(\"2 falhas: \", \"%6.10f \"%P2)\n",
    "print(\"3 falhas: \", \"%6.10f \"%P3)\n",
    "print(\"4 falhas: \", \"%6.10f \"%P4)\n",
    "print(\"5 falhas: \", \"%6.10f \"%P5)\n",
    "print(\"6 falhas: \", \"%6.10f \"%P6)\n",
    "print(\"7 falhas: \", \"%6.10f \"%P7)\n",
    "print(\"8 falhas: \", \"%6.10f \"%P8)\n",
    "print(\"9 falhas: \", \"%6.10f \"%P9)\n",
    "print(\"10 falhas: \", \"%6.10f \"%P10)\n",
    "print(\"11 falhas: \", \"%6.10f \"%P11)\n",
    "print(\"12 falhas: \", \"%6.10f \"%P12)\n",
    "print(\"13 falhas: \", \"%6.10f \"%P13)\n",
    "print(\"14 falhas: \", \"%6.10f \"%P14)\n",
    "\n",
    "Lista = [P0,P1,P2,P3,P4,P5,P6,P7,P8,P9,P10,P11,P12,P13,P14]\n",
    "T = [0,1,2,3,4,5,6,7,8,9,10,11,12,13,14]"
   ]
  },
  {
   "cell_type": "code",
   "execution_count": 51,
   "metadata": {
    "collapsed": false
   },
   "outputs": [
    {
     "name": "stdout",
     "output_type": "stream",
     "text": [
      "Média:   1.400\n",
      "Variancia:   1.260\n"
     ]
    }
   ],
   "source": [
    "M = stats.binom.stats(14, 0.1, moments='mv')\n",
    "print(\"Média: \",\"%6.3f\" %M[0])\n",
    "print(\"Variancia: \",\"%6.3f\" %M[1])"
   ]
  },
  {
   "cell_type": "code",
   "execution_count": 52,
   "metadata": {
    "collapsed": false
   },
   "outputs": [
    {
     "data": {
      "image/png": "[encoded data removed]",
      "text/plain": [
       "<matplotlib.figure.Figure at 0xb1844f9da0>"
      ]
     },
     "metadata": {},
     "output_type": "display_data"
    }
   ],
   "source": [
    "plt.plot(T,Lista,'rD')\n",
    "plt.plot(T1,R, 'yD')\n",
    "plt.xlabel('Itens em não conformidade')\n",
    "plt.ylabel('Frequencia')\n",
    "plt.title('Probabilidade Real x Probabilidade Teorico')\n",
    "plt.show()"
   ]
  },
  {
   "cell_type": "markdown",
   "metadata": {},
   "source": [
    "E) O modelo probabilistico é essencial para realizarmos previsões e projeções das probabilidades e com isso obtermos uma análise de como será distribuidos os eventos que estamos estudando."
   ]
  },
  {
   "cell_type": "code",
   "execution_count": 26,
   "metadata": {
    "collapsed": false
   },
   "outputs": [
    {
     "data": {
      "text/html": [
       "<div>\n",
       "<table border=\"1\" class=\"dataframe\">\n",
       "  <thead>\n",
       "    <tr style=\"text-align: right;\">\n",
       "      <th></th>\n",
       "      <th>Tipo</th>\n",
       "      <th>Quantidade</th>\n",
       "    </tr>\n",
       "  </thead>\n",
       "  <tbody>\n",
       "    <tr>\n",
       "      <th>1</th>\n",
       "      <td>1</td>\n",
       "      <td>0</td>\n",
       "    </tr>\n",
       "    <tr>\n",
       "      <th>2</th>\n",
       "      <td>1</td>\n",
       "      <td>2</td>\n",
       "    </tr>\n",
       "    <tr>\n",
       "      <th>3</th>\n",
       "      <td>1</td>\n",
       "      <td>2</td>\n",
       "    </tr>\n",
       "    <tr>\n",
       "      <th>4</th>\n",
       "      <td>1</td>\n",
       "      <td>3</td>\n",
       "    </tr>\n",
       "    <tr>\n",
       "      <th>5</th>\n",
       "      <td>1</td>\n",
       "      <td>1</td>\n",
       "    </tr>\n",
       "  </tbody>\n",
       "</table>\n",
       "</div>"
      ],
      "text/plain": [
       "   Tipo  Quantidade\n",
       "1     1           0\n",
       "2     1           2\n",
       "3     1           2\n",
       "4     1           3\n",
       "5     1           1"
      ]
     },
     "execution_count": 26,
     "metadata": {},
     "output_type": "execute_result"
    }
   ],
   "source": [
    "carrospop = carros[carros.Tipo == 1]\n",
    "carrospop.head()"
   ]
  },
  {
   "cell_type": "code",
   "execution_count": 33,
   "metadata": {
    "collapsed": false
   },
   "outputs": [
    {
     "name": "stdout",
     "output_type": "stream",
     "text": [
      "2    0.295000\n",
      "1    0.283889\n",
      "3    0.166667\n",
      "0    0.149444\n",
      "4    0.072778\n",
      "5    0.026111\n",
      "6    0.004444\n",
      "7    0.001111\n",
      "8    0.000556\n",
      "Name: Quantidade, dtype: float64\n"
     ]
    }
   ],
   "source": [
    "A = carrospop.Quantidade.value_counts(True) \n",
    "\n",
    "print(A)\n",
    "\n",
    "Ta = [2,1,3,0,4,5,6,7,8]"
   ]
  },
  {
   "cell_type": "code",
   "execution_count": 55,
   "metadata": {
    "collapsed": false
   },
   "outputs": [
    {
     "name": "stdout",
     "output_type": "stream",
     "text": [
      "0 falhas:  0.1423211803 \n",
      "1 falha:  0.2977293656 \n",
      "2 falhas:  0.2891739241 \n",
      "3 falhas:  0.1728395868 \n",
      "4 falhas:  0.0710231635 \n",
      "5 falhas:  0.0212253132 \n",
      "6 falhas:  0.0047573978 \n",
      "7 falhas:  0.0008124292 \n",
      "8 falhas:  0.0001062228 \n",
      "9 falhas:  0.0000105816 \n",
      "10 falhas:  0.0000007906 \n",
      "11 falhas:  0.0000000430 \n",
      "12 falhas:  0.0000000016 \n",
      "13 falhas:  0.0000000000 \n",
      "14 falhas:  0.0000000000 \n"
     ]
    }
   ],
   "source": [
    "Pa0 = stats.binom.pmf(0, 14, 0.13)\n",
    "Pa1 = stats.binom.pmf(1, 14, 0.13)\n",
    "Pa2 = stats.binom.pmf(2, 14, 0.13)\n",
    "Pa3 = stats.binom.pmf(3, 14, 0.13)\n",
    "Pa4 = stats.binom.pmf(4, 14, 0.13)\n",
    "Pa5 = stats.binom.pmf(5, 14, 0.13)\n",
    "Pa6 = stats.binom.pmf(6, 14, 0.13)\n",
    "Pa7 = stats.binom.pmf(7, 14, 0.13)\n",
    "Pa8 = stats.binom.pmf(8, 14, 0.13)\n",
    "Pa9 = stats.binom.pmf(9, 14, 0.13)\n",
    "Pa10 = stats.binom.pmf(10, 14, 0.13)\n",
    "Pa11 = stats.binom.pmf(11, 14, 0.13)\n",
    "Pa12 = stats.binom.pmf(12, 14, 0.13)\n",
    "Pa13 = stats.binom.pmf(13, 14, 0.13)\n",
    "Pa14 = stats.binom.pmf(14, 14, 0.13)\n",
    "print(\"0 falhas: \", \"%6.10f \"%Pa0)\n",
    "print(\"1 falha: \", \"%6.10f \"%Pa1)\n",
    "print(\"2 falhas: \", \"%6.10f \"%Pa2)\n",
    "print(\"3 falhas: \", \"%6.10f \"%Pa3)\n",
    "print(\"4 falhas: \", \"%6.10f \"%Pa4)\n",
    "print(\"5 falhas: \", \"%6.10f \"%Pa5)\n",
    "print(\"6 falhas: \", \"%6.10f \"%Pa6)\n",
    "print(\"7 falhas: \", \"%6.10f \"%Pa7)\n",
    "print(\"8 falhas: \", \"%6.10f \"%Pa8)\n",
    "print(\"9 falhas: \", \"%6.10f \"%Pa9)\n",
    "print(\"10 falhas: \", \"%6.10f \"%Pa10)\n",
    "print(\"11 falhas: \", \"%6.10f \"%Pa11)\n",
    "print(\"12 falhas: \", \"%6.10f \"%Pa12)\n",
    "print(\"13 falhas: \", \"%6.10f \"%Pa13)\n",
    "print(\"14 falhas: \", \"%6.10f \"%Pa14)\n",
    "\n",
    "ListaA = [Pa0,Pa1,Pa2,Pa3,Pa4,Pa5,Pa6,Pa7,Pa8,Pa9,Pa10,Pa11,Pa12,Pa13,Pa14]\n",
    "Ta1 = [0,1,2,3,4,5,6,7,8,9,10,11,12,13,14]"
   ]
  },
  {
   "cell_type": "code",
   "execution_count": 56,
   "metadata": {
    "collapsed": false
   },
   "outputs": [
    {
     "data": {
      "image/png": "[encoded data removed]",
      "text/plain": [
       "<matplotlib.figure.Figure at 0xb1845f96d8>"
      ]
     },
     "metadata": {},
     "output_type": "display_data"
    }
   ],
   "source": [
    "plt.plot(Ta1,ListaA,'rD')\n",
    "plt.plot(Ta,A, 'yD')\n",
    "plt.xlabel('Itens em não conformidade')\n",
    "plt.ylabel('Frequencia')\n",
    "plt.title('Probabilidade Real x Probabilidade Teorico')\n",
    "plt.show()"
   ]
  },
  {
   "cell_type": "markdown",
   "metadata": {},
   "source": [
    "F) Não, pois os valores de probabilidade encontrados com o modelo binomial não se aproximaram bem do acontecimento real analisado."
   ]
  },
  {
   "cell_type": "code",
   "execution_count": null,
   "metadata": {
    "collapsed": true
   },
   "outputs": [],
   "source": []
  }
 ],
 "metadata": {
  "anaconda-cloud": {},
  "kernelspec": {
   "display_name": "Python [Root]",
   "language": "python",
   "name": "Python [Root]"
  },
  "language_info": {
   "codemirror_mode": {
    "name": "ipython",
    "version": 3
   },
   "file_extension": ".py",
   "mimetype": "text/x-python",
   "name": "python",
   "nbconvert_exporter": "python",
   "pygments_lexer": "ipython3",
   "version": "3.5.2"
  }
 },
 "nbformat": 4,
 "nbformat_minor": 0
}
