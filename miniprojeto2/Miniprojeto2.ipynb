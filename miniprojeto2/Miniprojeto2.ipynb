{
 "cells": [
  {
   "cell_type": "markdown",
   "metadata": {},
   "source": [
    "# Miniprojeto 2"
   ]
  },
  {
   "cell_type": "markdown",
   "metadata": {},
   "source": [
    "## <font color='red'>Lucas Henrique Lemes Silva</font>\n",
    "## <font color='red'>Matheus de Souza Pamplona Silva</font>"
   ]
  },
  {
   "cell_type": "markdown",
   "metadata": {},
   "source": [
    "### Distribuição T"
   ]
  },
  {
   "cell_type": "code",
   "execution_count": 4,
   "metadata": {
    "collapsed": false
   },
   "outputs": [
    {
     "name": "stdout",
     "output_type": "stream",
     "text": [
      "Esperamos trabalhar no diretório\n",
      "C:\\Users\\Lucas\\Documents\\GitHub\\CD\\Miniprojeto2\n"
     ]
    }
   ],
   "source": [
    "%matplotlib inline\n",
    "import pandas as pd\n",
    "import matplotlib.pyplot as plt\n",
    "import numpy as np\n",
    "import os\n",
    "from scipy import stats\n",
    "import math \n",
    "from scipy.stats import t\n",
    "\n",
    "print('Esperamos trabalhar no diretório')\n",
    "print(os.getcwd())"
   ]
  },
  {
   "cell_type": "code",
   "execution_count": 20,
   "metadata": {
    "collapsed": false
   },
   "outputs": [
    {
     "name": "stdout",
     "output_type": "stream",
     "text": [
      "[ 3.67226027  2.97133922  2.02456019 ...,  6.39081321  2.85488081\n",
      "  3.2240651 ]\n"
     ]
    }
   ],
   "source": [
    "#Sorteio dos numeros de T\n",
    "\n",
    "T = stats.t.rvs(2, loc=3, scale=1, size=100000, random_state=None)\n",
    "print(T)"
   ]
  },
  {
   "cell_type": "code",
   "execution_count": 21,
   "metadata": {
    "collapsed": false
   },
   "outputs": [
    {
     "name": "stdout",
     "output_type": "stream",
     "text": [
      "Media de T: 2.99401759308\n",
      "Variancia de T: 9.77271635085\n"
     ]
    }
   ],
   "source": [
    "u = np.mean(T)\n",
    "print(\"Media de T:\",u)\n",
    "\n",
    "var = np.var(T)\n",
    "print(\"Variancia de T:\", var)"
   ]
  },
  {
   "cell_type": "markdown",
   "metadata": {},
   "source": [
    "## Amostra = 2"
   ]
  },
  {
   "cell_type": "code",
   "execution_count": 22,
   "metadata": {
    "collapsed": false
   },
   "outputs": [
    {
     "name": "stdout",
     "output_type": "stream",
     "text": [
      "Media das Medias amostrais:  3.0212215218\n",
      "Varianca das Medias amostrais:  4.21753396762\n"
     ]
    }
   ],
   "source": [
    "MediaAmostral = []\n",
    "\n",
    "for i in range(10000): \n",
    "    Media = []\n",
    "    \n",
    "    for u in range(2):      \n",
    "        Media.append(np.random.choice(T))  \n",
    "        \n",
    "    MediaAm = sum(Media)/2\n",
    "    MediaAmostral.append(MediaAm)\n",
    "\n",
    "EspMed = np.mean(MediaAmostral)\n",
    "VarMed = np.var(MediaAmostral)\n",
    "\n",
    "print(\"Media das Medias amostrais: \",EspMed)\n",
    "print(\"Varianca das Medias amostrais: \",VarMed)"
   ]
  },
  {
   "cell_type": "code",
   "execution_count": 23,
   "metadata": {
    "collapsed": false
   },
   "outputs": [
    {
     "data": {
      "image/png": "[encoded data removed]",
      "text/plain": [
       "<matplotlib.figure.Figure at 0xafaebdb860>"
      ]
     },
     "metadata": {},
     "output_type": "display_data"
    }
   ],
   "source": [
    "MediaAmostral = sorted(MediaAmostral)\n",
    "pd.Series(MediaAmostral)\n",
    "\n",
    "plt.hist(MediaAmostral, bins = np.arange(0,6,0.3), normed = 1)\n",
    "plt.ylabel(\"Densidade\")\n",
    "plt.xlabel(\"Media amostral\")\n",
    "plt.show()"
   ]
  },
  {
   "cell_type": "markdown",
   "metadata": {},
   "source": [
    "Os valores encontrados como média nesse calculo acima, representa uma aproximação do real encontrado usando o TLC. Pelo fato do numero de amostras serem pequeno, essa aproximação não é muito boa, mas quando o numero de amostras aumenta isso se aproxima cada vez mais do real."
   ]
  },
  {
   "cell_type": "markdown",
   "metadata": {},
   "source": [
    "## Amostra = 20"
   ]
  },
  {
   "cell_type": "code",
   "execution_count": 24,
   "metadata": {
    "collapsed": false
   },
   "outputs": [
    {
     "name": "stdout",
     "output_type": "stream",
     "text": [
      "Media das Medias amostrais:  2.97678884125\n",
      "Varianca das Medias amostrais:  0.534326022919\n"
     ]
    },
    {
     "data": {
      "image/png": "[encoded data removed]",
      "text/plain": [
       "<matplotlib.figure.Figure at 0xafaf371a20>"
      ]
     },
     "metadata": {},
     "output_type": "display_data"
    }
   ],
   "source": [
    "MediaAmostral2 = []\n",
    "\n",
    "for i in range(10000): \n",
    "    Media2 = []\n",
    "    \n",
    "    for u in range(20):      \n",
    "        Media2.append(np.random.choice(T))  \n",
    "        \n",
    "    MediaAm2 = sum(Media2)/20\n",
    "    MediaAmostral2.append(MediaAm2)\n",
    "\n",
    "EspMed2 = np.mean(MediaAmostral2)\n",
    "VarMed2 = np.var(MediaAmostral2)\n",
    "\n",
    "print(\"Media das Medias amostrais: \",EspMed2)\n",
    "print(\"Varianca das Medias amostrais: \",VarMed2)\n",
    "\n",
    "MediaAmostral2 = sorted(MediaAmostral2)\n",
    "pd.Series(MediaAmostral2)\n",
    "\n",
    "plt.hist(MediaAmostral2, bins = np.arange(0,6,0.3), normed = 1)\n",
    "plt.ylabel(\"Densidade\")\n",
    "plt.xlabel(\"Media Amostral\")\n",
    "plt.show()"
   ]
  },
  {
   "cell_type": "markdown",
   "metadata": {},
   "source": [
    "## Amostra = 50"
   ]
  },
  {
   "cell_type": "code",
   "execution_count": 25,
   "metadata": {
    "collapsed": false
   },
   "outputs": [
    {
     "name": "stdout",
     "output_type": "stream",
     "text": [
      "Media das Medias amostrais:  2.99273954019\n",
      "Varianca das Medias amostrais:  0.204466626229\n"
     ]
    },
    {
     "data": {
      "image/png": "[encoded data removed]",
      "text/plain": [
       "<matplotlib.figure.Figure at 0xafa999fc50>"
      ]
     },
     "metadata": {},
     "output_type": "display_data"
    }
   ],
   "source": [
    "MediaAmostral3 = []\n",
    "\n",
    "for i in range(10000): \n",
    "    Media3 = []\n",
    "    \n",
    "    for u in range(50):      \n",
    "        Media3.append(np.random.choice(T))  \n",
    "        \n",
    "    MediaAm3 = sum(Media3)/50\n",
    "    MediaAmostral3.append(MediaAm3)\n",
    "\n",
    "EspMed3 = np.mean(MediaAmostral3)\n",
    "VarMed3 = np.var(MediaAmostral3)\n",
    "\n",
    "print(\"Media das Medias amostrais: \",EspMed3)\n",
    "print(\"Varianca das Medias amostrais: \",VarMed3)\n",
    "\n",
    "MediaAmostral3 = sorted(MediaAmostral3)\n",
    "pd.Series(MediaAmostral3)\n",
    "\n",
    "plt.hist(MediaAmostral3, bins = np.arange(0,6,0.3), normed = 1)\n",
    "plt.ylabel(\"Densidade\")\n",
    "plt.xlabel(\"Media Amostral\")\n",
    "plt.show()"
   ]
  },
  {
   "cell_type": "markdown",
   "metadata": {},
   "source": [
    "Com os calculos realizados acima, podemos concluir que ao aumentar o numero de elementos amostrais, como por exemplo de 20 para 50, a aproximação da Media amostral teorica calculada se aproxima cada vez mais da real calculada com o TLC. Um exemplo real seria, aumentar o numero de eleitores entrevistados em uma pesquisa de campo eleitoral para se aproximar dos valores verdadeiros e diminuir sua margem de erro."
   ]
  },
  {
   "cell_type": "markdown",
   "metadata": {},
   "source": [
    "## Segunda parte "
   ]
  },
  {
   "cell_type": "code",
   "execution_count": 26,
   "metadata": {
    "collapsed": false
   },
   "outputs": [],
   "source": [
    "MediaX1 = []\n",
    "MediaX9 = []\n",
    "\n",
    "for i in range(10000): \n",
    "    Media4 = []\n",
    "    \n",
    "    for u in range(50):  \n",
    "        X =  np.random.choice(T)\n",
    "        Media4.append(X)  \n",
    "        \n",
    "        if u == 0:\n",
    "            MediaX1.append(X)\n",
    "        if u == 8:\n",
    "            MediaX9.append(X)\n"
   ]
  },
  {
   "cell_type": "code",
   "execution_count": 12,
   "metadata": {
    "collapsed": false
   },
   "outputs": [
    {
     "data": {
      "image/png": "[encoded data removed]",
      "text/plain": [
       "<matplotlib.figure.Figure at 0xafaebd3438>"
      ]
     },
     "metadata": {},
     "output_type": "display_data"
    }
   ],
   "source": [
    "plt.hist(MediaX1, bins = np.arange(-4,10,0.5), normed = 1)\n",
    "plt.ylabel(\"Densidade\")\n",
    "plt.xlabel(\"Valores de X1\")\n",
    "plt.show()"
   ]
  },
  {
   "cell_type": "code",
   "execution_count": 27,
   "metadata": {
    "collapsed": false
   },
   "outputs": [
    {
     "data": {
      "image/png": "[encoded data removed]",
      "text/plain": [
       "<matplotlib.figure.Figure at 0xafa99c9a90>"
      ]
     },
     "metadata": {},
     "output_type": "display_data"
    }
   ],
   "source": [
    "plt.hist(MediaX9, bins = np.arange(-4,10,0.5), normed = 1)\n",
    "plt.ylabel(\"Densidade\")\n",
    "plt.xlabel(\"Valores de X1\")\n",
    "plt.show()"
   ]
  },
  {
   "cell_type": "markdown",
   "metadata": {},
   "source": [
    "## escrever aqui"
   ]
  },
  {
   "cell_type": "code",
   "execution_count": 28,
   "metadata": {
    "collapsed": false
   },
   "outputs": [
    {
     "name": "stdout",
     "output_type": "stream",
     "text": [
      "Correlação entre X1 e X9: -0.00140577001184\n"
     ]
    }
   ],
   "source": [
    "print(\"Correlação entre X1 e X9:\", np.corrcoef(MediaX1, MediaX9)[0,1])"
   ]
  },
  {
   "cell_type": "markdown",
   "metadata": {},
   "source": [
    "As distribuições de X que foram escolhidos, X1 e X9, são identicas ao que foi escolhido no item 1 (t), e ao calcular a correlação entre elas podemos concluir que elas são independentes, pois o valor deu aproximado de 0. "
   ]
  },
  {
   "cell_type": "code",
   "execution_count": null,
   "metadata": {
    "collapsed": true
   },
   "outputs": [],
   "source": []
  }
 ],
 "metadata": {
  "kernelspec": {
   "display_name": "Python [Root]",
   "language": "python",
   "name": "Python [Root]"
  },
  "language_info": {
   "codemirror_mode": {
    "name": "ipython",
    "version": 3
   },
   "file_extension": ".py",
   "mimetype": "text/x-python",
   "name": "python",
   "nbconvert_exporter": "python",
   "pygments_lexer": "ipython3",
   "version": "3.5.2"
  }
 },
 "nbformat": 4,
 "nbformat_minor": 0
}
